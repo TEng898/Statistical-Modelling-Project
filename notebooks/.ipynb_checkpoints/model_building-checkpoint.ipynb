{
 "cells": [
  {
   "cell_type": "code",
   "execution_count": 2,
   "metadata": {},
   "outputs": [],
   "source": [
    "import pandas as pd\n",
    "import statsmodels.api as sm\n",
    "import seaborn as sns"
   ]
  },
  {
   "cell_type": "markdown",
   "metadata": {},
   "source": [
    "Build a regression model."
   ]
  },
  {
   "cell_type": "code",
   "execution_count": 17,
   "metadata": {},
   "outputs": [
    {
     "name": "stdout",
     "output_type": "stream",
     "text": [
      "<class 'pandas.core.frame.DataFrame'>\n",
      "RangeIndex: 244 entries, 0 to 243\n",
      "Data columns (total 3 columns):\n",
      " #   Column           Non-Null Count  Dtype\n",
      "---  ------           --------------  -----\n",
      " 0   bikeStationID    244 non-null    int64\n",
      " 1   numOfBikesAvail  244 non-null    int64\n",
      " 2   category         244 non-null    int64\n",
      "dtypes: int64(3)\n",
      "memory usage: 5.8 KB\n"
     ]
    }
   ],
   "source": [
    "# Regression model of number of parks around stations with number of available city bikes\n",
    "\n",
    "df_cb = pd.read_csv('../data/city_bikes.csv')\n",
    "df_yelp_POIall = pd.read_csv('../data/yelp_POIall.csv')\n",
    "df_fsV2all = pd.read_csv('../data/foursquareV2All.csv')\n",
    "\n",
    "df_res = df_cb.merge(df_fsV2all, how='inner', left_on='id', right_on='bikeStationID')\n",
    "\n",
    "mask = (df_res['category'].str.contains('Park'))\n",
    "df = df_res.loc[mask].groupby(['bikeStationID', 'numOfBikesAvail'])['category'].count()\n",
    "#convert series to data frame\n",
    "df = df.to_frame().reset_index()\n",
    "df.info()\n",
    "\n",
    "y = df['category']\n",
    "X = df['numOfBikesAvail']\n",
    "X = sm.add_constant(X)\n",
    "\n",
    "model = sm.OLS(y,X)\n",
    "results = model.fit()\n"
   ]
  },
  {
   "cell_type": "markdown",
   "metadata": {},
   "source": [
    "Provide model output and an interpretation of the results. "
   ]
  },
  {
   "cell_type": "code",
   "execution_count": 18,
   "metadata": {},
   "outputs": [
    {
     "name": "stdout",
     "output_type": "stream",
     "text": [
      "                            OLS Regression Results                            \n",
      "==============================================================================\n",
      "Dep. Variable:               category   R-squared:                       0.026\n",
      "Model:                            OLS   Adj. R-squared:                  0.022\n",
      "Method:                 Least Squares   F-statistic:                     6.476\n",
      "Date:                Thu, 03 Aug 2023   Prob (F-statistic):             0.0116\n",
      "Time:                        10:30:48   Log-Likelihood:                -496.52\n",
      "No. Observations:                 244   AIC:                             997.0\n",
      "Df Residuals:                     242   BIC:                             1004.\n",
      "Df Model:                           1                                         \n",
      "Covariance Type:            nonrobust                                         \n",
      "===================================================================================\n",
      "                      coef    std err          t      P>|t|      [0.025      0.975]\n",
      "-----------------------------------------------------------------------------------\n",
      "const               3.5526      0.203     17.495      0.000       3.153       3.953\n",
      "numOfBikesAvail     0.0557      0.022      2.545      0.012       0.013       0.099\n",
      "==============================================================================\n",
      "Omnibus:                       28.550   Durbin-Watson:                   1.444\n",
      "Prob(Omnibus):                  0.000   Jarque-Bera (JB):               35.110\n",
      "Skew:                           0.848   Prob(JB):                     2.38e-08\n",
      "Kurtosis:                       3.760   Cond. No.                         15.9\n",
      "==============================================================================\n",
      "\n",
      "Notes:\n",
      "[1] Standard Errors assume that the covariance matrix of the errors is correctly specified.\n"
     ]
    }
   ],
   "source": [
    "print(results.summary())\n",
    "\n",
    "# NUMBER OF PARKS VS NUMBER OF AVAILABLE CITY BIKES SHOWS A SLIGHT POSITIVE RELATIONSHIP WITH P-VALUES \n",
    "# LESS THAN 0.05."
   ]
  },
  {
   "cell_type": "code",
   "execution_count": 19,
   "metadata": {},
   "outputs": [
    {
     "name": "stdout",
     "output_type": "stream",
     "text": [
      "                                 OLS Regression Results                                \n",
      "=======================================================================================\n",
      "Dep. Variable:               category   R-squared (uncentered):                   0.598\n",
      "Model:                            OLS   Adj. R-squared (uncentered):              0.596\n",
      "Method:                 Least Squares   F-statistic:                              360.8\n",
      "Date:                Thu, 03 Aug 2023   Prob (F-statistic):                    6.15e-50\n",
      "Time:                        10:31:00   Log-Likelihood:                         -596.25\n",
      "No. Observations:                 244   AIC:                                      1194.\n",
      "Df Residuals:                     243   BIC:                                      1198.\n",
      "Df Model:                           1                                                  \n",
      "Covariance Type:            nonrobust                                                  \n",
      "===================================================================================\n",
      "                      coef    std err          t      P>|t|      [0.025      0.975]\n",
      "-----------------------------------------------------------------------------------\n",
      "numOfBikesAvail     0.3662      0.019     18.996      0.000       0.328       0.404\n",
      "==============================================================================\n",
      "Omnibus:                       36.398   Durbin-Watson:                   1.218\n",
      "Prob(Omnibus):                  0.000   Jarque-Bera (JB):              134.614\n",
      "Skew:                          -0.530   Prob(JB):                     5.87e-30\n",
      "Kurtosis:                       6.481   Cond. No.                         1.00\n",
      "==============================================================================\n",
      "\n",
      "Notes:\n",
      "[1] R² is computed without centering (uncentered) since the model does not contain a constant.\n",
      "[2] Standard Errors assume that the covariance matrix of the errors is correctly specified.\n"
     ]
    }
   ],
   "source": [
    "# TRY WITHOUT A Y-INTERCEPT\n",
    "y = df['category']\n",
    "X = df['numOfBikesAvail']\n",
    "\n",
    "model = sm.OLS(y,X)\n",
    "results = model.fit()\n",
    "print(results.summary())"
   ]
  },
  {
   "cell_type": "markdown",
   "metadata": {},
   "source": [
    "##### If the model is not forced to have a y intercept, it gives a decent R-squared. This is reasonable given the scatter plot showing the data being more symmetric around the regression line when it goes through the origin. The numOfBikesAvail coefficient has a low p-value (0.000), therefore, we can will not reject this model. The positive relationship suggests people ride city bikes to go the park since it's quite convenient."
   ]
  },
  {
   "cell_type": "code",
   "execution_count": 22,
   "metadata": {},
   "outputs": [
    {
     "data": {
      "text/plain": [
       "[Text(0.5, 0, 'Number of City Bikes Available'),\n",
       " Text(0, 0.5, 'Number of Parks Nearby')]"
      ]
     },
     "execution_count": 22,
     "metadata": {},
     "output_type": "execute_result"
    },
    {
     "data": {
      "image/png": "[encoded data removed]",
      "text/plain": [
       "<Figure size 640x480 with 1 Axes>"
      ]
     },
     "metadata": {},
     "output_type": "display_data"
    }
   ],
   "source": [
    "plt = sns.scatterplot(x=\"numOfBikesAvail\", y=\"category\", data=df)\n",
    "plt.set(xlabel='Number of City Bikes Available', ylabel='Number of Parks Nearby')"
   ]
  },
  {
   "cell_type": "markdown",
   "metadata": {},
   "source": [
    "# Stretch"
   ]
  },
  {
   "cell_type": "markdown",
   "metadata": {},
   "source": [
    "How can you turn the regression model into a classification model?"
   ]
  },
  {
   "cell_type": "code",
   "execution_count": null,
   "metadata": {},
   "outputs": [],
   "source": []
  }
 ],
 "metadata": {
  "kernelspec": {
   "display_name": "Python 3 (ipykernel)",
   "language": "python",
   "name": "python3"
  },
  "language_info": {
   "codemirror_mode": {
    "name": "ipython",
    "version": 3
   },
   "file_extension": ".py",
   "mimetype": "text/x-python",
   "name": "python",
   "nbconvert_exporter": "python",
   "pygments_lexer": "ipython3",
   "version": "3.9.17"
  }
 },
 "nbformat": 4,
 "nbformat_minor": 4
}
